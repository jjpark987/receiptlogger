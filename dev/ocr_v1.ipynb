{
 "cells": [
  {
   "cell_type": "code",
   "execution_count": 2,
   "metadata": {},
   "outputs": [
    {
     "name": "stdout",
     "output_type": "stream",
     "text": [
      "[2025/02/19 17:54:08] ppocr DEBUG: Namespace(help='==SUPPRESS==', use_gpu=False, use_xpu=False, use_npu=False, use_mlu=False, ir_optim=True, use_tensorrt=False, min_subgraph_size=15, precision='fp32', gpu_mem=500, gpu_id=0, image_dir=None, page_num=0, det_algorithm='DB', det_model_dir='/Users/jjpark987/.paddleocr/whl/det/en/en_PP-OCRv3_det_infer', det_limit_side_len=960, det_limit_type='max', det_box_type='quad', det_db_thresh=0.3, det_db_box_thresh=0.6, det_db_unclip_ratio=1.5, max_batch_size=10, use_dilation=False, det_db_score_mode='fast', det_east_score_thresh=0.8, det_east_cover_thresh=0.1, det_east_nms_thresh=0.2, det_sast_score_thresh=0.5, det_sast_nms_thresh=0.2, det_pse_thresh=0, det_pse_box_thresh=0.85, det_pse_min_area=16, det_pse_scale=1, scales=[8, 16, 32], alpha=1.0, beta=1.0, fourier_degree=5, rec_algorithm='SVTR_LCNet', rec_model_dir='/Users/jjpark987/.paddleocr/whl/rec/en/en_PP-OCRv4_rec_infer', rec_image_inverse=True, rec_image_shape='3, 48, 320', rec_batch_num=6, max_text_length=25, rec_char_dict_path='/Users/jjpark987/Desktop/receiptlogger/.venv/lib/python3.12/site-packages/paddleocr/ppocr/utils/en_dict.txt', use_space_char=True, vis_font_path='./doc/fonts/simfang.ttf', drop_score=0.5, e2e_algorithm='PGNet', e2e_model_dir=None, e2e_limit_side_len=768, e2e_limit_type='max', e2e_pgnet_score_thresh=0.5, e2e_char_dict_path='./ppocr/utils/ic15_dict.txt', e2e_pgnet_valid_set='totaltext', e2e_pgnet_mode='fast', use_angle_cls=True, cls_model_dir='/Users/jjpark987/.paddleocr/whl/cls/ch_ppocr_mobile_v2.0_cls_infer', cls_image_shape='3, 48, 192', label_list=['0', '180'], cls_batch_num=6, cls_thresh=0.9, enable_mkldnn=False, cpu_threads=10, use_pdserving=False, warmup=False, sr_model_dir=None, sr_image_shape='3, 32, 128', sr_batch_num=1, draw_img_save_dir='./inference_results', save_crop_res=False, crop_res_save_dir='./output', use_mp=False, total_process_num=1, process_id=0, benchmark=False, save_log_path='./log_output/', show_log=True, use_onnx=False, return_word_box=False, output='./output', table_max_len=488, table_algorithm='TableAttn', table_model_dir=None, merge_no_span_structure=True, table_char_dict_path=None, formula_algorithm='LaTeXOCR', formula_model_dir=None, formula_char_dict_path=None, formula_batch_num=1, layout_model_dir=None, layout_dict_path=None, layout_score_threshold=0.5, layout_nms_threshold=0.5, kie_algorithm='LayoutXLM', ser_model_dir=None, re_model_dir=None, use_visual_backbone=True, ser_dict_path='../train_data/XFUND/class_list_xfun.txt', ocr_order_method=None, mode='structure', image_orientation=False, layout=True, table=True, formula=False, ocr=True, recovery=False, recovery_to_markdown=False, use_pdf2docx_api=False, invert=False, binarize=False, alphacolor=(255, 255, 255), lang='en', det=True, rec=True, type='ocr', savefile=False, ocr_version='PP-OCRv4', structure_version='PP-StructureV2')\n",
      "[2025/02/19 17:54:09] ppocr DEBUG: dt_boxes num : 56, elapsed : 0.23313093185424805\n",
      "[2025/02/19 17:54:09] ppocr DEBUG: cls num  : 56, elapsed : 0.22365975379943848\n",
      "[2025/02/19 17:54:15] ppocr DEBUG: rec_res num  : 56, elapsed : 5.765030145645142\n",
      "{\n",
      "    \"location\": \"woodinville,wa 98072\",\n",
      "    \"items\": [\n",
      "        {\n",
      "            \"sku\": \"400278126974\",\n",
      "            \"name\": \"kids10kt cz 4mm s\",\n",
      "            \"price\": 12.99\n",
      "        },\n",
      "        {\n",
      "            \"sku\": \"400281233690\",\n",
      "            \"name\": \"7.8x6.5 pnk bow a\",\n",
      "            \"price\": 9.99\n",
      "        },\n",
      "        {\n",
      "            \"sku\": \"400279073604\",\n",
      "            \"name\": \"4.30z hh island ma\",\n",
      "            \"price\": 7.99\n",
      "        }\n",
      "    ],\n",
      "    \"subtotal\": 10.98,\n",
      "    \"tax\": 0.3,\n",
      "    \"total\": 11.28,\n",
      "    \"date\": \"02/13/25\",\n",
      "    \"store\": \"ross\"\n",
      "}\n"
     ]
    }
   ],
   "source": [
    "import json\n",
    "import os\n",
    "import sys\n",
    "\n",
    "PROJECT_ROOT = os.path.abspath(os.path.join(os.getcwd(), '..'))\n",
    "sys.path.append(PROJECT_ROOT)\n",
    "\n",
    "from paddleocr import PaddleOCR\n",
    "from ocr.receipt_types.ross import parse_ross_receipt\n",
    "from ocr.receipt_types.tjx import parse_tjx_receipt\n",
    "\n",
    "def extract_data(response):\n",
    "    store = ''\n",
    "    stores = [\n",
    "        'homegoods', \n",
    "        'marshalls', \n",
    "        'marshalls homegoods', \n",
    "        'ross',\n",
    "        'tj-max'\n",
    "    ]\n",
    "\n",
    "    if response[0][0][1][0].lower() in stores:\n",
    "        store = response[0][0][1][0].lower()\n",
    "\n",
    "    if store in ['homegoods', 'marshalls', 'marshalls homegoods', 'tj-max']:\n",
    "        receipt_data = parse_tjx_receipt(response[0])\n",
    "        receipt_data['store'] = store\n",
    "    elif store == 'ross':\n",
    "        receipt_data = parse_ross_receipt(response[0])\n",
    "        receipt_data['store'] = store    \n",
    "    else:\n",
    "        print('❓ Could not find receipt store')\n",
    "\n",
    "    return receipt_data\n",
    "\n",
    "ocr = PaddleOCR(use_angle_cls=True, lang='en')\n",
    "img_path = 'sample_receipts/ross-r.png'\n",
    "\n",
    "response = ocr.ocr(img_path, cls=True)\n",
    "receipt_data = extract_data(response)\n",
    "print(json.dumps(receipt_data, indent=4))"
   ]
  }
 ],
 "metadata": {
  "kernelspec": {
   "display_name": ".venv",
   "language": "python",
   "name": "python3"
  },
  "language_info": {
   "codemirror_mode": {
    "name": "ipython",
    "version": 3
   },
   "file_extension": ".py",
   "mimetype": "text/x-python",
   "name": "python",
   "nbconvert_exporter": "python",
   "pygments_lexer": "ipython3",
   "version": "3.12.9"
  }
 },
 "nbformat": 4,
 "nbformat_minor": 2
}
