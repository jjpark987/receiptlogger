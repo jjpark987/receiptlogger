{
 "cells": [
  {
   "cell_type": "code",
   "execution_count": 13,
   "metadata": {},
   "outputs": [
    {
     "name": "stdout",
     "output_type": "stream",
     "text": [
      "🧾 Extracted Receipt Text:\n",
      "Marshalls HomeGoods' 7\n",
      "TOME. IO ods COVINGTON, WA 98042\n",
      ". kell United States\n",
      "SEATAC VILLAGE 253-630-1316\n",
      "1736 8. 320TH STREET eon -\n",
      "FEDERAL WAY, WA 98023 .\n",
      "United States von Tok .\n",
      "253-859-4397 REGULAR SALE :\n",
      "SO-EVERYDAY Q LIN 419076 $142.99 7\n",
      "Hy o ; + | Weg : ;\n",
      "& ee 52-STORAGE ORGANT 126336 912.99\n",
      "oy4 * STORAGE ORGANI 137208 ,44 i 5H- EVERYDAY Q LIN 324453 $5.99 7 .\n",
      "52 - STORAGE ORGANI 137463 $5, 7 Subtotal 962.95\n",
      "Subtotal $18.98 WA 8.900% Sales Tax $4.7]\n",
      "WA 10,200% Sales Tax $1.94 we\n",
      "Total $57.66\n",
      "Total $20.92 ee hc ray a\n",
      "legen ee REESE TJX CREDIT CARD $57.66\n",
      "Gift Card . $11.03 wcvveeem= TRANSACTION RECORD ~-~~-~-~---\n",
      "Ree EERE EAS 1g REREAD [47\n",
      "Entry Method: Swiped PURCHASE 4\n",
      "__,. Balance: $0.00 ; EXPIRES #/#*  SWIPED\n",
      "Gift Card $9.89 AUTH# 025846\n",
      "J hebbckk kb Ag) o50445 496591 11-28-2024 16:27:11\n",
      "Entry Method: Swiped APPROVED us\n",
      "Balance: $45.20 accu cmneemsomanomprnenmnmsntatinnsnstanmiinsisssoorasnne\n",
      "sere rininoeceesincencanelnamecsmnuasicmingas thlaeticiiclewnpesie Change ee\n",
      "Change $000 ae ec ae . ' -\n",
      "rerchiencerrsesteteesistensnens — TOTOCUTO TENOR teeneaces\n",
      "HomeGioods VALUES YOUR FEEDBACK! ! Tell us what you think about:\n",
      "Tell us what you think about your store visit today and\n",
      "your store visit today and\n",
      "LEAD [simevyr\n",
      "Letuvn by (2140 Mendy\n",
      "d\n",
      "(34 168 Ubte sold bow a \\\n",
      "Yen Florin\n",
      "(SAAGZ EOTO YA FEEO oo\n",
      "bo “ray ,\n",
      "Make good things happen for other people.\n",
      "Other restiictions may apply L Uther\"reetrighians may apply — ,\n",
      "\\\n",
      ". .\n",
      "\n"
     ]
    }
   ],
   "source": [
    "import cv2\n",
    "import pytesseract\n",
    "from PIL import Image\n",
    "\n",
    "# Basic OCR code\n",
    "image_path = 'test_multiple.png'\n",
    "\n",
    "# Open and display the image\n",
    "image = Image.open(image_path)\n",
    "image.show()\n",
    "\n",
    "# Perform OCR\n",
    "extracted_text = pytesseract.image_to_string(image, config=\"--psm 6\")\n",
    "\n",
    "# Print the extracted text\n",
    "print('🧾 Extracted Receipt Text:')\n",
    "print(extracted_text)\n",
    "\n",
    "# # Save the extracted text to a file\n",
    "# with open('receipt_text.txt', 'w') as f:\n",
    "#     f.write(extracted_text)\n",
    "\n",
    "# print(\"✅ Text saved to 'receipt_text.txt'\")\n"
   ]
  }
 ],
 "metadata": {
  "kernelspec": {
   "display_name": ".venv",
   "language": "python",
   "name": "python3"
  },
  "language_info": {
   "codemirror_mode": {
    "name": "ipython",
    "version": 3
   },
   "file_extension": ".py",
   "mimetype": "text/x-python",
   "name": "python",
   "nbconvert_exporter": "python",
   "pygments_lexer": "ipython3",
   "version": "3.13.2"
  }
 },
 "nbformat": 4,
 "nbformat_minor": 2
}
