{
 "cells": [
  {
   "cell_type": "code",
   "execution_count": null,
   "metadata": {},
   "outputs": [],
   "source": [
    "from paddleocr import PaddleOCR\n",
    "\n",
    "def extract_data(response):\n",
    "    store = None\n",
    "    location = None\n",
    "    items = []\n",
    "    subtotal = None\n",
    "    tax = None\n",
    "    total = None\n",
    "\n",
    "    store_keywords = ['marshalls', 'homegoods', 'marshalls homegoods', 'tj maxx', 'ross']\n",
    "\n",
    "    for i in range(len(response)):\n",
    "        for j, line in enumerate(response[i]):\n",
    "            text = line[1][0].strip().lower()\n",
    "\n",
    "            if store is None and any(keyword in text for keyword in store_keywords):\n",
    "                store = text\n",
    "\n",
    "                if j + 1 < len(response[i]):\n",
    "                    location = response[i][j + 1][1][0].strip().lower()\n",
    "\n",
    "    return {\n",
    "        \"store\": store,\n",
    "        \"location\": location\n",
    "    }\n",
    "\n",
    "ocr = PaddleOCR(use_angle_cls=True, lang='en')\n",
    "img_path = 'test.png'\n",
    "\n",
    "response = ocr.ocr(img_path, cls=True)\n",
    "print(extract_data(response))\n"
   ]
  }
 ],
 "metadata": {
  "kernelspec": {
   "display_name": ".venv",
   "language": "python",
   "name": "python3"
  },
  "language_info": {
   "codemirror_mode": {
    "name": "ipython",
    "version": 3
   },
   "file_extension": ".py",
   "mimetype": "text/x-python",
   "name": "python",
   "nbconvert_exporter": "python",
   "pygments_lexer": "ipython3",
   "version": "3.12.9"
  }
 },
 "nbformat": 4,
 "nbformat_minor": 2
}
